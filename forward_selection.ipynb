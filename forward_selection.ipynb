{
 "cells": [
  {
   "cell_type": "code",
   "execution_count": 3,
   "metadata": {},
   "outputs": [
    {
     "name": "stdout",
     "output_type": "stream",
     "text": [
      "Selected Features Indices: [5, 12, 16, 18, 19]\n",
      "Accuracy on Test Set: 0.8\n"
     ]
    }
   ],
   "source": [
    "import numpy as np\n",
    "from sklearn.datasets import make_classification\n",
    "from sklearn.model_selection import cross_val_score, train_test_split\n",
    "from sklearn.svm import SVC\n",
    "from sklearn.feature_selection import SequentialFeatureSelector\n",
    "\n",
    "# Generate a random dataset\n",
    "X, y = make_classification(n_samples=1000, n_features=20, n_informative=10, n_classes=2, random_state=42)\n",
    "\n",
    "# Split the data into training and testing sets\n",
    "X_train, X_test, y_train, y_test = train_test_split(X, y, test_size=0.2, random_state=42)\n",
    "\n",
    "# Create an SVM classifier (you can use any other classifier of your choice)\n",
    "classifier = SVC(kernel='linear')\n",
    "\n",
    "# Use Sequential Feature Selector for forward feature selection\n",
    "# You may need to install the mlxtend library if you haven't already: pip install mlxtend\n",
    "from mlxtend.feature_selection import SequentialFeatureSelector\n",
    "\n",
    "# Set the number of features to select\n",
    "num_features_to_select = 5\n",
    "\n",
    "# Forward feature selection\n",
    "sfs = SequentialFeatureSelector(classifier, k_features=num_features_to_select, forward=True, scoring='accuracy', cv=5)\n",
    "sfs.fit(X_train, y_train)\n",
    "\n",
    "# Get the selected feature indices\n",
    "selected_features_indices = list(sfs.k_feature_idx_)\n",
    "\n",
    "# Extract the selected features\n",
    "selected_features = X_train[:, selected_features_indices]\n",
    "\n",
    "# Train the model on the selected features\n",
    "classifier.fit(selected_features, y_train)\n",
    "\n",
    "# Evaluate the model on the test set\n",
    "X_test_selected = X_test[:, selected_features_indices]\n",
    "accuracy = classifier.score(X_test_selected, y_test)\n",
    "\n",
    "print(f\"Selected Features Indices: {selected_features_indices}\")\n",
    "print(f\"Accuracy on Test Set: {accuracy}\")\n"
   ]
  }
 ],
 "metadata": {
  "kernelspec": {
   "display_name": "Python 3",
   "language": "python",
   "name": "python3"
  },
  "language_info": {
   "codemirror_mode": {
    "name": "ipython",
    "version": 3
   },
   "file_extension": ".py",
   "mimetype": "text/x-python",
   "name": "python",
   "nbconvert_exporter": "python",
   "pygments_lexer": "ipython3",
   "version": "3.8.0"
  }
 },
 "nbformat": 4,
 "nbformat_minor": 2
}
